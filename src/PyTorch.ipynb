{
  "cells": [
    {
      "cell_type": "markdown",
      "metadata": {
        "colab_type": "text",
        "id": "view-in-github"
      },
      "source": [
        "<a href=\"https://colab.research.google.com/github/rokmr/Kick-Start-AI/blob/main/src/PyTorch.ipynb\" target=\"_parent\"><img src=\"https://colab.research.google.com/assets/colab-badge.svg\" alt=\"Open In Colab\"/></a>"
      ]
    },
    {
      "cell_type": "code",
      "execution_count": 2,
      "metadata": {
        "colab": {
          "base_uri": "https://localhost:8080/",
          "height": 35
        },
        "id": "atEahvrFRip6",
        "outputId": "710b5d08-68b2-4ce2-f7ee-034bffe8e0e5"
      },
      "outputs": [
        {
          "data": {
            "text/plain": [
              "'2.2.2'"
            ]
          },
          "execution_count": 2,
          "metadata": {},
          "output_type": "execute_result"
        }
      ],
      "source": [
        "import torch\n",
        "torch.__version__"
      ]
    },
    {
      "cell_type": "markdown",
      "metadata": {
        "id": "4ZfwUJwTRv_2"
      },
      "source": [
        "# Scalar"
      ]
    },
    {
      "cell_type": "code",
      "execution_count": null,
      "metadata": {
        "colab": {
          "base_uri": "https://localhost:8080/"
        },
        "id": "sAmsgSQMRrr5",
        "outputId": "96b9bcc6-cc84-4e24-b29b-1448a2994f00"
      },
      "outputs": [
        {
          "data": {
            "text/plain": [
              "tensor(7)"
            ]
          },
          "execution_count": 6,
          "metadata": {},
          "output_type": "execute_result"
        }
      ],
      "source": [
        "scalar_tensor = torch.tensor(7)\n",
        "scalar_tensor"
      ]
    },
    {
      "cell_type": "code",
      "execution_count": null,
      "metadata": {
        "colab": {
          "base_uri": "https://localhost:8080/"
        },
        "id": "AhOB8TwfR59u",
        "outputId": "f2f35e22-6a9f-4a9f-93e6-ed2e0be80943"
      },
      "outputs": [
        {
          "data": {
            "text/plain": [
              "tensor([ 3.9236e-43,  0.0000e+00, -1.4002e+23,  4.4385e-41,  0.0000e+00,\n",
              "         0.0000e+00,  0.0000e+00])"
            ]
          },
          "execution_count": 7,
          "metadata": {},
          "output_type": "execute_result"
        }
      ],
      "source": [
        "scalar_Tensor = torch.Tensor(7)\n",
        "scalar_Tensor"
      ]
    },
    {
      "cell_type": "code",
      "execution_count": null,
      "metadata": {
        "colab": {
          "base_uri": "https://localhost:8080/"
        },
        "id": "OUBZUm6rR75P",
        "outputId": "4fdc345a-be42-4d90-ffc1-f92e863f6277"
      },
      "outputs": [
        {
          "name": "stdout",
          "output_type": "stream",
          "text": [
            "scalar_tensor.ndim : 0, scalar_Tensor.ndim : 1\n"
          ]
        }
      ],
      "source": [
        "print(f\"scalar_tensor.ndim : {scalar_tensor.ndim}, scalar_Tensor.ndim : {scalar_Tensor.ndim}\")"
      ]
    },
    {
      "cell_type": "code",
      "execution_count": null,
      "metadata": {
        "colab": {
          "base_uri": "https://localhost:8080/"
        },
        "id": "jFIDvVzXSMQl",
        "outputId": "473d1613-76cf-4b62-e84a-9d15b9bdda6a"
      },
      "outputs": [
        {
          "name": "stdout",
          "output_type": "stream",
          "text": [
            "7 ||  tensor([ 3.9236e-43,  0.0000e+00, -1.4002e+23,  4.4385e-41,  0.0000e+00,\n",
            "         0.0000e+00,  0.0000e+00])\n"
          ]
        }
      ],
      "source": [
        "print(f\"{scalar_tensor.item()} ||  {scalar_Tensor}\")"
      ]
    },
    {
      "cell_type": "code",
      "execution_count": null,
      "metadata": {
        "colab": {
          "base_uri": "https://localhost:8080/"
        },
        "id": "AWHh9M7cTCLE",
        "outputId": "ccf3fc12-9e63-42b2-fe6e-a5bc32685b97"
      },
      "outputs": [
        {
          "name": "stdout",
          "output_type": "stream",
          "text": [
            "torch.Size([]) ||  torch.Size([7])\n"
          ]
        }
      ],
      "source": [
        "print(f\"{scalar_tensor.shape} ||  {scalar_Tensor.shape}\")"
      ]
    },
    {
      "cell_type": "markdown",
      "metadata": {
        "id": "9I10hcZ9SzgQ"
      },
      "source": [
        "# Vector"
      ]
    },
    {
      "cell_type": "code",
      "execution_count": null,
      "metadata": {
        "colab": {
          "base_uri": "https://localhost:8080/"
        },
        "id": "UZovVxdSSch0",
        "outputId": "ffb9452c-94a4-4145-ca1c-fe8d27ece542"
      },
      "outputs": [
        {
          "data": {
            "text/plain": [
              "tensor([7, 7])"
            ]
          },
          "execution_count": 14,
          "metadata": {},
          "output_type": "execute_result"
        }
      ],
      "source": [
        "vector = torch.tensor([7,7])\n",
        "vector"
      ]
    },
    {
      "cell_type": "code",
      "execution_count": null,
      "metadata": {
        "colab": {
          "base_uri": "https://localhost:8080/"
        },
        "id": "jKa-8YfOS7Bh",
        "outputId": "8759b8a8-7dbd-4764-fc52-d12e2012de42"
      },
      "outputs": [
        {
          "data": {
            "text/plain": [
              "1"
            ]
          },
          "execution_count": 15,
          "metadata": {},
          "output_type": "execute_result"
        }
      ],
      "source": [
        "vector.ndim"
      ]
    },
    {
      "cell_type": "code",
      "execution_count": null,
      "metadata": {
        "colab": {
          "base_uri": "https://localhost:8080/"
        },
        "id": "Qz6KeUA0S9Ze",
        "outputId": "5719559f-4116-412b-aac2-e980bb83f1ee"
      },
      "outputs": [
        {
          "data": {
            "text/plain": [
              "torch.Size([2])"
            ]
          },
          "execution_count": 18,
          "metadata": {},
          "output_type": "execute_result"
        }
      ],
      "source": [
        "vector.shape"
      ]
    },
    {
      "cell_type": "markdown",
      "metadata": {
        "id": "ABdQNVSFW0O2"
      },
      "source": [
        "# Matrix"
      ]
    },
    {
      "cell_type": "code",
      "execution_count": null,
      "metadata": {
        "colab": {
          "base_uri": "https://localhost:8080/"
        },
        "id": "uwrfwalnTS7V",
        "outputId": "7f4127c7-7e55-4d5e-d56f-973f54204ae4"
      },
      "outputs": [
        {
          "data": {
            "text/plain": [
              "tensor([[1, 2],\n",
              "        [3, 4]])"
            ]
          },
          "execution_count": 23,
          "metadata": {},
          "output_type": "execute_result"
        }
      ],
      "source": [
        "matrix = torch.tensor([[1, 2],\n",
        "                       [3, 4]])\n",
        "matrix"
      ]
    },
    {
      "cell_type": "code",
      "execution_count": null,
      "metadata": {
        "colab": {
          "base_uri": "https://localhost:8080/"
        },
        "id": "MkEwQ8EuXAZ1",
        "outputId": "bf44b3f9-e91b-41b3-af15-4131c5b8da45"
      },
      "outputs": [
        {
          "data": {
            "text/plain": [
              "2"
            ]
          },
          "execution_count": 24,
          "metadata": {},
          "output_type": "execute_result"
        }
      ],
      "source": [
        "matrix.ndim"
      ]
    },
    {
      "cell_type": "code",
      "execution_count": null,
      "metadata": {
        "colab": {
          "base_uri": "https://localhost:8080/"
        },
        "id": "JZa-skIyXFjT",
        "outputId": "b96fc5c3-9b30-48f9-b0aa-ac3658b80a2c"
      },
      "outputs": [
        {
          "data": {
            "text/plain": [
              "torch.Size([2, 2])"
            ]
          },
          "execution_count": 25,
          "metadata": {},
          "output_type": "execute_result"
        }
      ],
      "source": [
        "matrix.shape"
      ]
    },
    {
      "cell_type": "markdown",
      "metadata": {
        "id": "GCyMNrzKXKht"
      },
      "source": [
        "# Tensor"
      ]
    },
    {
      "cell_type": "code",
      "execution_count": null,
      "metadata": {
        "colab": {
          "base_uri": "https://localhost:8080/"
        },
        "id": "O1CF4gveXIwm",
        "outputId": "3dc4672b-bcd2-4418-c154-a392f8c66b1a"
      },
      "outputs": [
        {
          "data": {
            "text/plain": [
              "tensor([[[1, 2, 3],\n",
              "         [4, 5, 6],\n",
              "         [7, 8, 9]]])"
            ]
          },
          "execution_count": 26,
          "metadata": {},
          "output_type": "execute_result"
        }
      ],
      "source": [
        "tensor = torch.tensor([[[1,2,3],\n",
        "                        [4,5,6],\n",
        "                        [7,8,9]]])\n",
        "tensor"
      ]
    },
    {
      "cell_type": "code",
      "execution_count": null,
      "metadata": {
        "colab": {
          "base_uri": "https://localhost:8080/"
        },
        "id": "qPikXZbHXeKL",
        "outputId": "df141d8c-559d-413b-dfd0-5170939d56bc"
      },
      "outputs": [
        {
          "data": {
            "text/plain": [
              "3"
            ]
          },
          "execution_count": 27,
          "metadata": {},
          "output_type": "execute_result"
        }
      ],
      "source": [
        "tensor.ndim"
      ]
    },
    {
      "cell_type": "code",
      "execution_count": null,
      "metadata": {
        "colab": {
          "base_uri": "https://localhost:8080/"
        },
        "id": "Vy_BGo5PXgpy",
        "outputId": "8d17a60e-d067-457f-8c69-3dd3dfda9744"
      },
      "outputs": [
        {
          "data": {
            "text/plain": [
              "torch.Size([1, 3, 3])"
            ]
          },
          "execution_count": 28,
          "metadata": {},
          "output_type": "execute_result"
        }
      ],
      "source": [
        "tensor.shape"
      ]
    },
    {
      "cell_type": "code",
      "execution_count": null,
      "metadata": {
        "colab": {
          "base_uri": "https://localhost:8080/"
        },
        "id": "rFNawCT_XiIe",
        "outputId": "3b0998dd-e86a-42e6-e9f6-df34b26335dc"
      },
      "outputs": [
        {
          "data": {
            "text/plain": [
              "torch.int64"
            ]
          },
          "execution_count": 29,
          "metadata": {},
          "output_type": "execute_result"
        }
      ],
      "source": [
        "tensor.dtype"
      ]
    },
    {
      "cell_type": "markdown",
      "metadata": {
        "id": "HppNt2V1YO9k"
      },
      "source": [
        "## Random Tesnor"
      ]
    },
    {
      "cell_type": "code",
      "execution_count": null,
      "metadata": {
        "colab": {
          "base_uri": "https://localhost:8080/"
        },
        "id": "t0NMxlruXtLM",
        "outputId": "a3ac4327-6df8-4f29-a322-c708158c4e65"
      },
      "outputs": [
        {
          "data": {
            "text/plain": [
              "(torch.Size([224, 224, 3]), 3)"
            ]
          },
          "execution_count": 32,
          "metadata": {},
          "output_type": "execute_result"
        }
      ],
      "source": [
        "random_img_tensor = torch.rand(size=(224, 224, 3))\n",
        "random_img_tensor.shape, random_img_tensor.ndim"
      ]
    },
    {
      "cell_type": "code",
      "execution_count": null,
      "metadata": {
        "colab": {
          "base_uri": "https://localhost:8080/"
        },
        "id": "XQ3C5LMGZJ5G",
        "outputId": "9f66ef35-bc57-45a1-cf15-73925409f12b"
      },
      "outputs": [
        {
          "data": {
            "text/plain": [
              "torch.float32"
            ]
          },
          "execution_count": 37,
          "metadata": {},
          "output_type": "execute_result"
        }
      ],
      "source": [
        "random_img_tensor.dtype"
      ]
    },
    {
      "cell_type": "markdown",
      "metadata": {
        "id": "WsMVLkveYUex"
      },
      "source": [
        "## Zeros"
      ]
    },
    {
      "cell_type": "code",
      "execution_count": null,
      "metadata": {
        "colab": {
          "base_uri": "https://localhost:8080/"
        },
        "id": "sD7YxxfAYCR9",
        "outputId": "8004adc6-98d2-4f38-b000-41e15a410604"
      },
      "outputs": [
        {
          "data": {
            "text/plain": [
              "tensor([[0., 0., 0., 0.],\n",
              "        [0., 0., 0., 0.],\n",
              "        [0., 0., 0., 0.]])"
            ]
          },
          "execution_count": 33,
          "metadata": {},
          "output_type": "execute_result"
        }
      ],
      "source": [
        "zeros = torch.zeros(size=(3,4))\n",
        "zeros"
      ]
    },
    {
      "cell_type": "code",
      "execution_count": null,
      "metadata": {
        "colab": {
          "base_uri": "https://localhost:8080/"
        },
        "id": "P8Hk2D5mY2o_",
        "outputId": "bae38ab7-131a-42b2-cd92-bf442059b2e3"
      },
      "outputs": [
        {
          "data": {
            "text/plain": [
              "(torch.Size([3, 4]), 2)"
            ]
          },
          "execution_count": 34,
          "metadata": {},
          "output_type": "execute_result"
        }
      ],
      "source": [
        "zeros.shape, zeros.ndim"
      ]
    },
    {
      "cell_type": "code",
      "execution_count": null,
      "metadata": {
        "colab": {
          "base_uri": "https://localhost:8080/"
        },
        "id": "ojLV0sLHZL6F",
        "outputId": "7c2eecff-e791-4876-b5af-a410162d605f"
      },
      "outputs": [
        {
          "data": {
            "text/plain": [
              "torch.float32"
            ]
          },
          "execution_count": 38,
          "metadata": {},
          "output_type": "execute_result"
        }
      ],
      "source": [
        "zeros.dtype"
      ]
    },
    {
      "cell_type": "markdown",
      "metadata": {
        "id": "itltu8FbY9gV"
      },
      "source": [
        "## Ones"
      ]
    },
    {
      "cell_type": "code",
      "execution_count": null,
      "metadata": {
        "colab": {
          "base_uri": "https://localhost:8080/"
        },
        "id": "r08RBIWfY5wr",
        "outputId": "7cc956c3-4b5c-476d-83af-7f5f00d6132d"
      },
      "outputs": [
        {
          "data": {
            "text/plain": [
              "tensor([[1., 1., 1., 1.],\n",
              "        [1., 1., 1., 1.],\n",
              "        [1., 1., 1., 1.]])"
            ]
          },
          "execution_count": 35,
          "metadata": {},
          "output_type": "execute_result"
        }
      ],
      "source": [
        "ones = torch.ones(size=(3,4))\n",
        "ones"
      ]
    },
    {
      "cell_type": "code",
      "execution_count": null,
      "metadata": {
        "colab": {
          "base_uri": "https://localhost:8080/"
        },
        "id": "IR2aL3kdZBoF",
        "outputId": "2d50b194-e05b-4f50-8b68-1d1e8539ea87"
      },
      "outputs": [
        {
          "data": {
            "text/plain": [
              "(torch.Size([3, 4]), 2)"
            ]
          },
          "execution_count": 36,
          "metadata": {},
          "output_type": "execute_result"
        }
      ],
      "source": [
        "ones.shape, ones.ndim"
      ]
    },
    {
      "cell_type": "code",
      "execution_count": null,
      "metadata": {
        "colab": {
          "base_uri": "https://localhost:8080/"
        },
        "id": "XF-VtQbXZFYm",
        "outputId": "5104a602-91b8-4e4b-de9b-aae7d8764796"
      },
      "outputs": [
        {
          "data": {
            "text/plain": [
              "torch.float32"
            ]
          },
          "execution_count": 39,
          "metadata": {},
          "output_type": "execute_result"
        }
      ],
      "source": [
        "ones.dtype"
      ]
    },
    {
      "cell_type": "markdown",
      "metadata": {
        "id": "_5VB1drAZtaR"
      },
      "source": [
        "## Zeros and Ones like"
      ]
    },
    {
      "cell_type": "code",
      "execution_count": null,
      "metadata": {
        "colab": {
          "base_uri": "https://localhost:8080/"
        },
        "id": "ID1nrAI2ZPTs",
        "outputId": "a6ece16b-cd0b-4c08-9832-937ae0cd1140"
      },
      "outputs": [
        {
          "data": {
            "text/plain": [
              "tensor([ 5,  6,  7,  8,  9, 10])"
            ]
          },
          "execution_count": 44,
          "metadata": {},
          "output_type": "execute_result"
        }
      ],
      "source": [
        "five_to_ten = torch.arange(5,11, 1)\n",
        "five_to_ten"
      ]
    },
    {
      "cell_type": "code",
      "execution_count": null,
      "metadata": {
        "colab": {
          "base_uri": "https://localhost:8080/"
        },
        "id": "B4PJoigIZXmm",
        "outputId": "716288b9-57dd-4496-b141-bc1572643cb7"
      },
      "outputs": [
        {
          "data": {
            "text/plain": [
              "tensor([0, 0, 0, 0, 0, 0])"
            ]
          },
          "execution_count": 45,
          "metadata": {},
          "output_type": "execute_result"
        }
      ],
      "source": [
        "zeros_like = torch.zeros_like(five_to_ten)\n",
        "zeros_like"
      ]
    },
    {
      "cell_type": "code",
      "execution_count": null,
      "metadata": {
        "colab": {
          "base_uri": "https://localhost:8080/"
        },
        "id": "jMSq8QY_Z4QD",
        "outputId": "db319c07-e256-4d0f-a0eb-3968e152c3c9"
      },
      "outputs": [
        {
          "data": {
            "text/plain": [
              "(torch.Size([6]), 1, 6)"
            ]
          },
          "execution_count": 48,
          "metadata": {},
          "output_type": "execute_result"
        }
      ],
      "source": [
        "zeros_like.shape, zeros_like.ndim"
      ]
    },
    {
      "cell_type": "code",
      "execution_count": null,
      "metadata": {
        "colab": {
          "base_uri": "https://localhost:8080/"
        },
        "id": "26wmxFtFZ5a3",
        "outputId": "bea0bfdc-7d0f-4e51-a2ca-994d84953d5e"
      },
      "outputs": [
        {
          "data": {
            "text/plain": [
              "tensor([1, 1, 1, 1, 1, 1])"
            ]
          },
          "execution_count": 50,
          "metadata": {},
          "output_type": "execute_result"
        }
      ],
      "source": [
        "ones_like = torch.ones_like(five_to_ten)\n",
        "ones_like"
      ]
    },
    {
      "cell_type": "code",
      "execution_count": null,
      "metadata": {
        "colab": {
          "base_uri": "https://localhost:8080/"
        },
        "id": "e-Mi4GxmaGbg",
        "outputId": "095a8d42-7551-44b7-bf67-e7fd3a515367"
      },
      "outputs": [
        {
          "data": {
            "text/plain": [
              "(torch.Size([6]), 1)"
            ]
          },
          "execution_count": 51,
          "metadata": {},
          "output_type": "execute_result"
        }
      ],
      "source": [
        "ones_like.shape, ones_like.ndim"
      ]
    },
    {
      "cell_type": "markdown",
      "metadata": {
        "id": "ThjyB2X0aWGB"
      },
      "source": [
        "## Specific datatype"
      ]
    },
    {
      "cell_type": "code",
      "execution_count": null,
      "metadata": {
        "colab": {
          "base_uri": "https://localhost:8080/"
        },
        "id": "vnTJIXhTaQvh",
        "outputId": "6f48b920-017f-4783-a19b-c1175143e17e"
      },
      "outputs": [
        {
          "data": {
            "text/plain": [
              "torch.int64"
            ]
          },
          "execution_count": 54,
          "metadata": {},
          "output_type": "execute_result"
        }
      ],
      "source": [
        "data1 = torch.tensor([1,2,3])\n",
        "data1.dtype"
      ]
    },
    {
      "cell_type": "code",
      "execution_count": null,
      "metadata": {
        "colab": {
          "base_uri": "https://localhost:8080/"
        },
        "id": "JGBqNuTwadBW",
        "outputId": "e3cacdc3-a396-4418-ad7b-ca773ab50920"
      },
      "outputs": [
        {
          "data": {
            "text/plain": [
              "torch.float16"
            ]
          },
          "execution_count": 86,
          "metadata": {},
          "output_type": "execute_result"
        }
      ],
      "source": [
        "data1 = torch.tensor([1,2,3], dtype=torch.float16)\n",
        "data1.dtype"
      ]
    },
    {
      "cell_type": "code",
      "execution_count": null,
      "metadata": {
        "colab": {
          "base_uri": "https://localhost:8080/"
        },
        "id": "aGA6qC_7hMXc",
        "outputId": "4dc9af14-8b61-4aed-f647-c1b45984781c"
      },
      "outputs": [
        {
          "data": {
            "text/plain": [
              "torch.float32"
            ]
          },
          "execution_count": 87,
          "metadata": {},
          "output_type": "execute_result"
        }
      ],
      "source": [
        "data1 = data1.type(torch.float32)\n",
        "data1.dtype"
      ]
    },
    {
      "cell_type": "markdown",
      "metadata": {
        "id": "XdXnT4ZtdJ9Q"
      },
      "source": [
        "# Operations"
      ]
    },
    {
      "cell_type": "markdown",
      "metadata": {
        "id": "j6ZmTUP0alHZ"
      },
      "source": [
        "## Basics"
      ]
    },
    {
      "cell_type": "code",
      "execution_count": null,
      "metadata": {
        "colab": {
          "base_uri": "https://localhost:8080/"
        },
        "id": "dU1UirkVdOIp",
        "outputId": "3d4902ba-a352-4134-df6b-edda27770a2b"
      },
      "outputs": [
        {
          "data": {
            "text/plain": [
              "tensor([11, 12, 13])"
            ]
          },
          "execution_count": 57,
          "metadata": {},
          "output_type": "execute_result"
        }
      ],
      "source": [
        "tensor = torch.tensor([1, 2, 3])\n",
        "tensor + 10"
      ]
    },
    {
      "cell_type": "code",
      "execution_count": null,
      "metadata": {
        "colab": {
          "base_uri": "https://localhost:8080/"
        },
        "id": "XNIQjIOZdSfE",
        "outputId": "ce7cffa9-d9d7-49af-e4c3-f014722ba736"
      },
      "outputs": [
        {
          "data": {
            "text/plain": [
              "tensor([10, 20, 30])"
            ]
          },
          "execution_count": 58,
          "metadata": {},
          "output_type": "execute_result"
        }
      ],
      "source": [
        "tensor * 10"
      ]
    },
    {
      "cell_type": "code",
      "execution_count": null,
      "metadata": {
        "colab": {
          "base_uri": "https://localhost:8080/"
        },
        "id": "NstBLHMZdVSG",
        "outputId": "646ec8e9-479b-4a99-edfa-ccb09bba4d31"
      },
      "outputs": [
        {
          "data": {
            "text/plain": [
              "tensor([1, 2, 3])"
            ]
          },
          "execution_count": 59,
          "metadata": {},
          "output_type": "execute_result"
        }
      ],
      "source": [
        "tensor"
      ]
    },
    {
      "cell_type": "code",
      "execution_count": null,
      "metadata": {
        "colab": {
          "base_uri": "https://localhost:8080/"
        },
        "id": "GcG5nYMIdYAM",
        "outputId": "0d76d951-5b62-4346-a9ef-41e38d405421"
      },
      "outputs": [
        {
          "data": {
            "text/plain": [
              "tensor([-9, -8, -7])"
            ]
          },
          "execution_count": 60,
          "metadata": {},
          "output_type": "execute_result"
        }
      ],
      "source": [
        "tensor = tensor - 10\n",
        "tensor"
      ]
    },
    {
      "cell_type": "code",
      "execution_count": null,
      "metadata": {
        "colab": {
          "base_uri": "https://localhost:8080/"
        },
        "id": "RdJ16ja-dcbu",
        "outputId": "0541f70d-c8af-4373-e9e1-5619b5bc94f9"
      },
      "outputs": [
        {
          "data": {
            "text/plain": [
              "tensor([1, 2, 3])"
            ]
          },
          "execution_count": 61,
          "metadata": {},
          "output_type": "execute_result"
        }
      ],
      "source": [
        "tensor = tensor + 10\n",
        "tensor"
      ]
    },
    {
      "cell_type": "code",
      "execution_count": null,
      "metadata": {
        "colab": {
          "base_uri": "https://localhost:8080/"
        },
        "id": "3j5DTkSHde1Z",
        "outputId": "8786aad2-4600-4701-8384-9068d1383f8a"
      },
      "outputs": [
        {
          "data": {
            "text/plain": [
              "tensor([10, 20, 30])"
            ]
          },
          "execution_count": 62,
          "metadata": {},
          "output_type": "execute_result"
        }
      ],
      "source": [
        "torch.multiply(tensor, 10)"
      ]
    },
    {
      "cell_type": "code",
      "execution_count": null,
      "metadata": {
        "colab": {
          "base_uri": "https://localhost:8080/"
        },
        "id": "UNpS7HOVdhrr",
        "outputId": "ee3a2856-b197-4c1b-a002-6f66f89a71a3"
      },
      "outputs": [
        {
          "data": {
            "text/plain": [
              "tensor([1, 4, 9])"
            ]
          },
          "execution_count": 63,
          "metadata": {},
          "output_type": "execute_result"
        }
      ],
      "source": [
        "torch.multiply(tensor, tensor)"
      ]
    },
    {
      "cell_type": "code",
      "execution_count": null,
      "metadata": {
        "colab": {
          "base_uri": "https://localhost:8080/"
        },
        "id": "Y9i7PgKRdrBc",
        "outputId": "2c325d22-ae6a-4b80-f083-43207e5da9ff"
      },
      "outputs": [
        {
          "data": {
            "text/plain": [
              "tensor([1, 4, 9])"
            ]
          },
          "execution_count": 64,
          "metadata": {},
          "output_type": "execute_result"
        }
      ],
      "source": [
        "tensor * tensor # Dot-product"
      ]
    },
    {
      "cell_type": "code",
      "execution_count": null,
      "metadata": {
        "colab": {
          "base_uri": "https://localhost:8080/"
        },
        "id": "mwZ7SJGiduMN",
        "outputId": "419e5a2b-7f4c-4084-be38-4d568eb9cf42"
      },
      "outputs": [
        {
          "data": {
            "text/plain": [
              "tensor(14)"
            ]
          },
          "execution_count": 67,
          "metadata": {},
          "output_type": "execute_result"
        }
      ],
      "source": [
        "torch.matmul(tensor, tensor)"
      ]
    },
    {
      "cell_type": "code",
      "execution_count": null,
      "metadata": {
        "colab": {
          "base_uri": "https://localhost:8080/"
        },
        "id": "dllKEDQqd3Lz",
        "outputId": "14fbf8f4-01cd-43b3-86ce-c5074a35a42a"
      },
      "outputs": [
        {
          "data": {
            "text/plain": [
              "tensor(14)"
            ]
          },
          "execution_count": 68,
          "metadata": {},
          "output_type": "execute_result"
        }
      ],
      "source": [
        "tensor @ tensor"
      ]
    },
    {
      "cell_type": "code",
      "execution_count": null,
      "metadata": {
        "colab": {
          "base_uri": "https://localhost:8080/"
        },
        "id": "2ORVP-oZeCE0",
        "outputId": "b13c681b-2874-4b67-99e7-072ef3fcb353"
      },
      "outputs": [
        {
          "data": {
            "text/plain": [
              "(torch.Size([3, 2]), torch.Size([3, 2]))"
            ]
          },
          "execution_count": 72,
          "metadata": {},
          "output_type": "execute_result"
        }
      ],
      "source": [
        "tensor_A = torch.tensor([[1, 2],\n",
        "                         [3, 4],\n",
        "                         [5, 6]], dtype=torch.float32)\n",
        "\n",
        "tensor_B = torch.tensor([[7, 10],\n",
        "                         [8, 11],\n",
        "                         [9, 12]], dtype=torch.float32)\n",
        "\n",
        "tensor_A.shape, tensor_B.shape"
      ]
    },
    {
      "cell_type": "code",
      "execution_count": null,
      "metadata": {
        "colab": {
          "base_uri": "https://localhost:8080/"
        },
        "id": "ZZETHu2GeQjQ",
        "outputId": "63128805-931f-4cc1-f0cc-f06536eeb36b"
      },
      "outputs": [
        {
          "data": {
            "text/plain": [
              "tensor([[ 27.,  30.,  33.],\n",
              "        [ 61.,  68.,  75.],\n",
              "        [ 95., 106., 117.]])"
            ]
          },
          "execution_count": 74,
          "metadata": {},
          "output_type": "execute_result"
        }
      ],
      "source": [
        "torch.matmul(tensor_A, tensor_B.T)"
      ]
    },
    {
      "cell_type": "code",
      "execution_count": null,
      "metadata": {
        "colab": {
          "base_uri": "https://localhost:8080/"
        },
        "id": "1xSnEChYe2rh",
        "outputId": "1b40172e-b368-4c3c-99dd-49f3200307e8"
      },
      "outputs": [
        {
          "data": {
            "text/plain": [
              "tensor([[ 27.,  30.,  33.],\n",
              "        [ 61.,  68.,  75.],\n",
              "        [ 95., 106., 117.]])"
            ]
          },
          "execution_count": 75,
          "metadata": {},
          "output_type": "execute_result"
        }
      ],
      "source": [
        "torch.mm(tensor_A, tensor_B.T)"
      ]
    },
    {
      "cell_type": "markdown",
      "metadata": {
        "id": "ZvuoqZ-zfIym"
      },
      "source": [
        "## nn.Linear"
      ]
    },
    {
      "cell_type": "code",
      "execution_count": null,
      "metadata": {
        "colab": {
          "base_uri": "https://localhost:8080/"
        },
        "id": "B_EPdRLufomu",
        "outputId": "035117d5-6b83-4fdb-b820-b181987c4e14"
      },
      "outputs": [
        {
          "data": {
            "text/plain": [
              "(torch.Size([2]), torch.Size([6]), torch.Size([3, 2]), torch.Size([3, 6]))"
            ]
          },
          "execution_count": 81,
          "metadata": {},
          "output_type": "execute_result"
        }
      ],
      "source": [
        "linear_layer = torch.nn.Linear(in_features=2,\n",
        "                               out_features=6)\n",
        "\n",
        "x1_input= torch.tensor([1,2], dtype=torch.float32)\n",
        "\n",
        "x2_input = torch.tensor([[1, 2],\n",
        "                        [3, 4],\n",
        "                        [5, 6]], dtype=torch.float32)\n",
        "\n",
        "x1_output = linear_layer(x1_input)\n",
        "x2_output = linear_layer(x2_input)\n",
        "\n",
        "x1_input.shape, x1_output.shape, x2_input.shape, x2_output.shape"
      ]
    },
    {
      "cell_type": "markdown",
      "metadata": {
        "id": "5tbeQgW_f63Z"
      },
      "source": [
        "## Min Max"
      ]
    },
    {
      "cell_type": "code",
      "execution_count": null,
      "metadata": {
        "colab": {
          "base_uri": "https://localhost:8080/"
        },
        "id": "FQ8wPl9Vgu6X",
        "outputId": "c7c758d0-fc41-48c0-ddeb-edd727dfd3e7"
      },
      "outputs": [
        {
          "data": {
            "text/plain": [
              "tensor([ 0, 10, 20, 30, 40, 50, 60, 70, 80, 90])"
            ]
          },
          "execution_count": 83,
          "metadata": {},
          "output_type": "execute_result"
        }
      ],
      "source": [
        "x = torch.arange(0, 100, 10)\n",
        "x"
      ]
    },
    {
      "cell_type": "code",
      "execution_count": null,
      "metadata": {
        "colab": {
          "base_uri": "https://localhost:8080/"
        },
        "id": "ddAlYBsCgzVc",
        "outputId": "afdf511f-001b-44fc-aa78-fc142562b708"
      },
      "outputs": [
        {
          "data": {
            "text/plain": [
              "(tensor(0), tensor(90))"
            ]
          },
          "execution_count": 84,
          "metadata": {},
          "output_type": "execute_result"
        }
      ],
      "source": [
        "x.min(), x.max()"
      ]
    },
    {
      "cell_type": "code",
      "execution_count": null,
      "metadata": {
        "colab": {
          "base_uri": "https://localhost:8080/"
        },
        "id": "QF_nteMpg5Ac",
        "outputId": "bf58cba5-b0d6-4731-c4cd-bc713a5d6ada"
      },
      "outputs": [
        {
          "data": {
            "text/plain": [
              "(tensor(0), tensor(9))"
            ]
          },
          "execution_count": 85,
          "metadata": {},
          "output_type": "execute_result"
        }
      ],
      "source": [
        "x.argmin(), x.argmax()"
      ]
    },
    {
      "cell_type": "markdown",
      "metadata": {
        "id": "Ig3mx3VBhCrl"
      },
      "source": [
        "# Reshaping, view, stacking, squeezing and unsqueezing"
      ]
    },
    {
      "cell_type": "markdown",
      "metadata": {
        "id": "h8zV_4lvhhy0"
      },
      "source": [
        "## Reshape"
      ]
    },
    {
      "cell_type": "code",
      "execution_count": null,
      "metadata": {
        "colab": {
          "base_uri": "https://localhost:8080/"
        },
        "id": "oS5_LVhyhpjy",
        "outputId": "f56bc681-eede-41a5-f3c9-f1862af1b35a"
      },
      "outputs": [
        {
          "data": {
            "text/plain": [
              "torch.float32"
            ]
          },
          "execution_count": 121,
          "metadata": {},
          "output_type": "execute_result"
        }
      ],
      "source": [
        "x = torch.arange(0., 10.)\n",
        "x.dtype"
      ]
    },
    {
      "cell_type": "code",
      "execution_count": null,
      "metadata": {
        "colab": {
          "base_uri": "https://localhost:8080/"
        },
        "id": "RnZCMLz5hpbj",
        "outputId": "939b99da-a32f-4459-f94b-4d3fd46bf63a"
      },
      "outputs": [
        {
          "data": {
            "text/plain": [
              "torch.int64"
            ]
          },
          "execution_count": 122,
          "metadata": {},
          "output_type": "execute_result"
        }
      ],
      "source": [
        "x = torch.arange(0, 12)\n",
        "x.dtype"
      ]
    },
    {
      "cell_type": "code",
      "execution_count": null,
      "metadata": {
        "colab": {
          "base_uri": "https://localhost:8080/"
        },
        "id": "oE4Eyw3fhpDu",
        "outputId": "c902e43d-e7f5-49a4-fd40-5fec9407a025"
      },
      "outputs": [
        {
          "data": {
            "text/plain": [
              "tensor([ 0,  1,  2,  3,  4,  5,  6,  7,  8,  9, 10, 11])"
            ]
          },
          "execution_count": 123,
          "metadata": {},
          "output_type": "execute_result"
        }
      ],
      "source": [
        "x"
      ]
    },
    {
      "cell_type": "code",
      "execution_count": null,
      "metadata": {
        "colab": {
          "base_uri": "https://localhost:8080/"
        },
        "id": "jtrGPTqjinhg",
        "outputId": "3407f97e-2846-4a13-e232-427ef459a3f6"
      },
      "outputs": [
        {
          "data": {
            "text/plain": [
              "tensor([[ 0,  1,  2,  3,  4,  5],\n",
              "        [ 6,  7,  8,  9, 10, 11]])"
            ]
          },
          "execution_count": 124,
          "metadata": {},
          "output_type": "execute_result"
        }
      ],
      "source": [
        "x_reshaped = x.reshape(2,6)\n",
        "x_reshaped"
      ]
    },
    {
      "cell_type": "code",
      "execution_count": null,
      "metadata": {
        "colab": {
          "base_uri": "https://localhost:8080/"
        },
        "id": "eGyShAw_k3j7",
        "outputId": "03b71e68-a946-46ef-ae75-70d8c3e7234c"
      },
      "outputs": [
        {
          "data": {
            "text/plain": [
              "tensor([[ 0,  1,  2,  3],\n",
              "        [ 4,  5,  6,  7],\n",
              "        [ 8,  9, 10, 11]])"
            ]
          },
          "execution_count": 125,
          "metadata": {},
          "output_type": "execute_result"
        }
      ],
      "source": [
        "x_reshaped = x.reshape(3,4)\n",
        "x_reshaped"
      ]
    },
    {
      "cell_type": "code",
      "execution_count": null,
      "metadata": {
        "colab": {
          "base_uri": "https://localhost:8080/"
        },
        "id": "D8vZNppntEpU",
        "outputId": "d288b81c-8d19-4869-df6b-e841e772781e"
      },
      "outputs": [
        {
          "data": {
            "text/plain": [
              "tensor([[-111,    1,    2,    3],\n",
              "        [   4,    5,    6,    7],\n",
              "        [   8,    9,   10,   11]])"
            ]
          },
          "execution_count": 126,
          "metadata": {},
          "output_type": "execute_result"
        }
      ],
      "source": [
        "x_reshaped[0,0] = -111\n",
        "x_reshaped"
      ]
    },
    {
      "cell_type": "code",
      "execution_count": null,
      "metadata": {
        "id": "znpUXqV2svvd"
      },
      "outputs": [],
      "source": [
        "# .reshape may or may not share the underlying data"
      ]
    },
    {
      "cell_type": "markdown",
      "metadata": {
        "id": "-5yEINdq4Q7b"
      },
      "source": [
        "## View"
      ]
    },
    {
      "cell_type": "code",
      "execution_count": null,
      "metadata": {
        "colab": {
          "base_uri": "https://localhost:8080/"
        },
        "id": "7BxEO8pz4U7b",
        "outputId": "fe5072ca-62bd-416a-e27d-186b38925b35"
      },
      "outputs": [
        {
          "data": {
            "text/plain": [
              "torch.float32"
            ]
          },
          "execution_count": 132,
          "metadata": {},
          "output_type": "execute_result"
        }
      ],
      "source": [
        "x = torch.arange(0., 12.)\n",
        "x.dtype"
      ]
    },
    {
      "cell_type": "code",
      "execution_count": null,
      "metadata": {
        "colab": {
          "base_uri": "https://localhost:8080/"
        },
        "id": "agJ7a-zu4fhp",
        "outputId": "6ed6cad9-0e4b-4a72-bf21-7374b9d6e029"
      },
      "outputs": [
        {
          "data": {
            "text/plain": [
              "tensor([ 0.,  1.,  2.,  3.,  4.,  5.,  6.,  7.,  8.,  9., 10., 11.])"
            ]
          },
          "execution_count": 133,
          "metadata": {},
          "output_type": "execute_result"
        }
      ],
      "source": [
        "x"
      ]
    },
    {
      "cell_type": "code",
      "execution_count": null,
      "metadata": {
        "colab": {
          "base_uri": "https://localhost:8080/"
        },
        "id": "QkRmA9oI4fwK",
        "outputId": "6b29b797-ac6e-4bec-faa3-9b36c31f10c6"
      },
      "outputs": [
        {
          "data": {
            "text/plain": [
              "tensor([[ 0.,  1.,  2.,  3.,  4.,  5.],\n",
              "        [ 6.,  7.,  8.,  9., 10., 11.]])"
            ]
          },
          "execution_count": 134,
          "metadata": {},
          "output_type": "execute_result"
        }
      ],
      "source": [
        "x_view = x.view(2,6)\n",
        "x_view"
      ]
    },
    {
      "cell_type": "code",
      "execution_count": null,
      "metadata": {
        "colab": {
          "base_uri": "https://localhost:8080/"
        },
        "id": "jDB3qhls4fzl",
        "outputId": "bc7360f2-5fa0-439b-bb34-f3a6e6705823"
      },
      "outputs": [
        {
          "data": {
            "text/plain": [
              "tensor([[-111.,    1.,    2.,    3.,    4.,    5.],\n",
              "        [   6.,    7.,    8.,    9.,   10.,   11.]])"
            ]
          },
          "execution_count": 135,
          "metadata": {},
          "output_type": "execute_result"
        }
      ],
      "source": [
        "x_view[0,0] = -111\n",
        "x_view"
      ]
    },
    {
      "cell_type": "markdown",
      "metadata": {
        "id": "aD0duHYBhj3w"
      },
      "source": [
        "## Stack"
      ]
    },
    {
      "cell_type": "code",
      "execution_count": null,
      "metadata": {
        "colab": {
          "base_uri": "https://localhost:8080/"
        },
        "id": "Hov2bVDIhlZy",
        "outputId": "6249ffc0-9997-445b-f34c-0823b9d48d0d"
      },
      "outputs": [
        {
          "data": {
            "text/plain": [
              "tensor([0, 1, 2, 3, 4])"
            ]
          },
          "execution_count": 137,
          "metadata": {},
          "output_type": "execute_result"
        }
      ],
      "source": [
        "x = torch.arange(0,5)\n",
        "x"
      ]
    },
    {
      "cell_type": "code",
      "execution_count": null,
      "metadata": {
        "colab": {
          "base_uri": "https://localhost:8080/"
        },
        "id": "WBNgWLzGhqJx",
        "outputId": "c83119da-52ac-43a6-ecef-514477b1ae5d"
      },
      "outputs": [
        {
          "data": {
            "text/plain": [
              "torch.Size([4, 5])"
            ]
          },
          "execution_count": 139,
          "metadata": {},
          "output_type": "execute_result"
        }
      ],
      "source": [
        "x_dim0 = torch.stack([x,x,x,x], dim=0)\n",
        "x_dim0.shape"
      ]
    },
    {
      "cell_type": "code",
      "execution_count": null,
      "metadata": {
        "colab": {
          "base_uri": "https://localhost:8080/"
        },
        "id": "DuY1Fmh96VWE",
        "outputId": "1c661fb1-77ef-455b-d2dc-c5fcafc6f590"
      },
      "outputs": [
        {
          "data": {
            "text/plain": [
              "torch.Size([5, 4])"
            ]
          },
          "execution_count": 140,
          "metadata": {},
          "output_type": "execute_result"
        }
      ],
      "source": [
        "x_dim0 = torch.stack([x,x,x,x], dim=1)\n",
        "x_dim0.shape"
      ]
    },
    {
      "cell_type": "markdown",
      "metadata": {
        "id": "UHYjCMjbhqGt"
      },
      "source": [
        "## Unsqueeze & Squeeze"
      ]
    },
    {
      "cell_type": "code",
      "execution_count": null,
      "metadata": {
        "colab": {
          "base_uri": "https://localhost:8080/"
        },
        "id": "YkZ_9m7qhuZI",
        "outputId": "a842f789-1b40-40a9-a7c3-2285036bbbdd"
      },
      "outputs": [
        {
          "data": {
            "text/plain": [
              "torch.Size([5])"
            ]
          },
          "execution_count": 141,
          "metadata": {},
          "output_type": "execute_result"
        }
      ],
      "source": [
        "x.shape"
      ]
    },
    {
      "cell_type": "code",
      "execution_count": null,
      "metadata": {
        "colab": {
          "base_uri": "https://localhost:8080/"
        },
        "id": "f3Isjah_huWF",
        "outputId": "88e5b5eb-2067-408a-e2af-6a70a3a6ec67"
      },
      "outputs": [
        {
          "data": {
            "text/plain": [
              "torch.Size([1, 5])"
            ]
          },
          "execution_count": 143,
          "metadata": {},
          "output_type": "execute_result"
        }
      ],
      "source": [
        "x_unsqueeze0 = x.unsqueeze(dim=0)\n",
        "x_unsqueeze0.shape"
      ]
    },
    {
      "cell_type": "code",
      "execution_count": null,
      "metadata": {
        "colab": {
          "base_uri": "https://localhost:8080/"
        },
        "id": "qs7cAYeF6kyh",
        "outputId": "38791390-e2dd-428b-f325-09b20b24a7fa"
      },
      "outputs": [
        {
          "data": {
            "text/plain": [
              "torch.Size([5, 1])"
            ]
          },
          "execution_count": 144,
          "metadata": {},
          "output_type": "execute_result"
        }
      ],
      "source": [
        "x_unsqueeze1 = x.unsqueeze(dim=1)\n",
        "x_unsqueeze1.shape"
      ]
    },
    {
      "cell_type": "code",
      "execution_count": null,
      "metadata": {
        "colab": {
          "base_uri": "https://localhost:8080/"
        },
        "id": "VDndISox6r4c",
        "outputId": "e8a92035-bf6d-4d8a-e991-6107b7bfb9be"
      },
      "outputs": [
        {
          "data": {
            "text/plain": [
              "torch.Size([5])"
            ]
          },
          "execution_count": 146,
          "metadata": {},
          "output_type": "execute_result"
        }
      ],
      "source": [
        "x_squeeze0 = x_unsqueeze0.squeeze()\n",
        "x_squeeze0.shape"
      ]
    },
    {
      "cell_type": "code",
      "execution_count": null,
      "metadata": {
        "colab": {
          "base_uri": "https://localhost:8080/"
        },
        "id": "GkpulKce6wvE",
        "outputId": "71fd1a54-df54-4937-da6b-72c0a48b5739"
      },
      "outputs": [
        {
          "data": {
            "text/plain": [
              "torch.Size([5])"
            ]
          },
          "execution_count": 147,
          "metadata": {},
          "output_type": "execute_result"
        }
      ],
      "source": [
        "x_squeeze1 = x_unsqueeze0.squeeze()\n",
        "x_squeeze1.shape"
      ]
    },
    {
      "cell_type": "code",
      "execution_count": null,
      "metadata": {
        "colab": {
          "base_uri": "https://localhost:8080/"
        },
        "id": "_ykceZE89m-2",
        "outputId": "e9b7d4bf-5f50-4482-d941-29f84126b894"
      },
      "outputs": [
        {
          "data": {
            "text/plain": [
              "torch.Size([1, 5, 1])"
            ]
          },
          "execution_count": 151,
          "metadata": {},
          "output_type": "execute_result"
        }
      ],
      "source": [
        "x_unsqueeze02 = x_unsqueeze0.unsqueeze(dim=2)\n",
        "x_unsqueeze02.shape"
      ]
    },
    {
      "cell_type": "code",
      "execution_count": null,
      "metadata": {
        "colab": {
          "base_uri": "https://localhost:8080/"
        },
        "id": "WWsnsI4_9vsa",
        "outputId": "7b57c91a-a5e6-48f6-9936-2f95f4d92015"
      },
      "outputs": [
        {
          "data": {
            "text/plain": [
              "torch.Size([5])"
            ]
          },
          "execution_count": 152,
          "metadata": {},
          "output_type": "execute_result"
        }
      ],
      "source": [
        "x_squeeze02 =x_unsqueeze02.squeeze()\n",
        "x_squeeze02.shape"
      ]
    },
    {
      "cell_type": "code",
      "execution_count": null,
      "metadata": {
        "colab": {
          "base_uri": "https://localhost:8080/"
        },
        "id": "ylEAEf6892o9",
        "outputId": "e035c28f-ba00-4889-eda5-d4d742765648"
      },
      "outputs": [
        {
          "data": {
            "text/plain": [
              "torch.Size([1, 1, 5])"
            ]
          },
          "execution_count": 153,
          "metadata": {},
          "output_type": "execute_result"
        }
      ],
      "source": [
        "x_unsqueeze01 = x_unsqueeze0.unsqueeze(dim=1)\n",
        "x_unsqueeze01.shape"
      ]
    },
    {
      "cell_type": "code",
      "execution_count": null,
      "metadata": {
        "colab": {
          "base_uri": "https://localhost:8080/"
        },
        "id": "TdORsE-o9_25",
        "outputId": "ea9235ba-53c5-43d2-c190-2f8c226a2600"
      },
      "outputs": [
        {
          "data": {
            "text/plain": [
              "torch.Size([5])"
            ]
          },
          "execution_count": 154,
          "metadata": {},
          "output_type": "execute_result"
        }
      ],
      "source": [
        "x_squeeze01 =x_unsqueeze01.squeeze()\n",
        "x_squeeze01.shape"
      ]
    },
    {
      "cell_type": "markdown",
      "metadata": {
        "id": "YAknrXdh-Gin"
      },
      "source": [
        "## Index"
      ]
    },
    {
      "cell_type": "code",
      "execution_count": null,
      "metadata": {
        "colab": {
          "base_uri": "https://localhost:8080/"
        },
        "id": "V16oendh-QYf",
        "outputId": "339b998f-34e8-4a04-ee0a-032ea0b6538f"
      },
      "outputs": [
        {
          "data": {
            "text/plain": [
              "(tensor([[[1, 2, 3],\n",
              "          [4, 5, 6],\n",
              "          [7, 8, 9]]]),\n",
              " torch.Size([1, 3, 3]))"
            ]
          },
          "execution_count": 156,
          "metadata": {},
          "output_type": "execute_result"
        }
      ],
      "source": [
        "x = torch.arange(1, 10).reshape(1, 3, 3)\n",
        "x, x.shape"
      ]
    },
    {
      "cell_type": "code",
      "execution_count": null,
      "metadata": {
        "colab": {
          "base_uri": "https://localhost:8080/"
        },
        "id": "K0eRE8Qr-RtB",
        "outputId": "c36a2f71-42e4-4f6f-c271-75fdf1d2e6e2"
      },
      "outputs": [
        {
          "data": {
            "text/plain": [
              "tensor([[1, 2, 3],\n",
              "        [4, 5, 6],\n",
              "        [7, 8, 9]])"
            ]
          },
          "execution_count": 159,
          "metadata": {},
          "output_type": "execute_result"
        }
      ],
      "source": [
        "x[0]"
      ]
    },
    {
      "cell_type": "code",
      "execution_count": null,
      "metadata": {
        "colab": {
          "base_uri": "https://localhost:8080/"
        },
        "id": "MFDhGS1o-Uj1",
        "outputId": "0fdda72c-cdde-44cb-8fdf-3817e38d8245"
      },
      "outputs": [
        {
          "data": {
            "text/plain": [
              "tensor([4, 5, 6])"
            ]
          },
          "execution_count": 160,
          "metadata": {},
          "output_type": "execute_result"
        }
      ],
      "source": [
        "x[0][1]"
      ]
    },
    {
      "cell_type": "code",
      "execution_count": null,
      "metadata": {
        "colab": {
          "base_uri": "https://localhost:8080/"
        },
        "id": "LBWeXibF-flq",
        "outputId": "7ab067b1-8826-4eae-821c-40970269ebec"
      },
      "outputs": [
        {
          "data": {
            "text/plain": [
              "tensor([[2, 5, 8]])"
            ]
          },
          "execution_count": 162,
          "metadata": {},
          "output_type": "execute_result"
        }
      ],
      "source": [
        "x[:,:,1]"
      ]
    },
    {
      "cell_type": "markdown",
      "metadata": {},
      "source": [
        "# Misc."
      ]
    },
    {
      "cell_type": "code",
      "execution_count": 7,
      "metadata": {},
      "outputs": [
        {
          "data": {
            "text/plain": [
              "(tensor([0.3000, 0.2800, 0.2000]), tensor([1, 3, 0]))"
            ]
          },
          "execution_count": 7,
          "metadata": {},
          "output_type": "execute_result"
        }
      ],
      "source": [
        "# Top k\n",
        "k=3\n",
        "probabilities = torch.tensor([0.2, 0.3, 0.12, 0.28, 0.1])\n",
        "topk_prob, topk_indices = torch.topk(probabilities, k)\n",
        "topk_prob, topk_indices"
      ]
    }
  ],
  "metadata": {
    "colab": {
      "authorship_tag": "ABX9TyPuqGGLT1BRpSMLCkY3h1SN",
      "include_colab_link": true,
      "provenance": [],
      "toc_visible": true
    },
    "kernelspec": {
      "display_name": "flow_matching",
      "language": "python",
      "name": "python3"
    },
    "language_info": {
      "codemirror_mode": {
        "name": "ipython",
        "version": 3
      },
      "file_extension": ".py",
      "mimetype": "text/x-python",
      "name": "python",
      "nbconvert_exporter": "python",
      "pygments_lexer": "ipython3",
      "version": "3.9.21"
    }
  },
  "nbformat": 4,
  "nbformat_minor": 0
}
